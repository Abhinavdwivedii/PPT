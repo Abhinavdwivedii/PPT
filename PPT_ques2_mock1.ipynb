{
  "nbformat": 4,
  "nbformat_minor": 0,
  "metadata": {
    "colab": {
      "provenance": []
    },
    "kernelspec": {
      "name": "python3",
      "display_name": "Python 3"
    },
    "language_info": {
      "name": "python"
    }
  },
  "cells": [
    {
      "cell_type": "code",
      "execution_count": 1,
      "metadata": {
        "id": "CNuI_TsVx80Q"
      },
      "outputs": [],
      "source": [
        "def firstUniqChar(s):\n",
        "    char_count = {}\n",
        "\n",
        "    # Count the frequency of each character\n",
        "    for char in s:\n",
        "        char_count[char] = char_count.get(char, 0) + 1\n",
        "\n",
        "    # Find the first non-repeating character\n",
        "    for i, char in enumerate(s):\n",
        "        if char_count[char] == 1:\n",
        "            return i\n",
        "\n",
        "    return -1\n"
      ]
    },
    {
      "cell_type": "code",
      "source": [
        "s = \"leetcode\"\n",
        "print(firstUniqChar(s))\n"
      ],
      "metadata": {
        "colab": {
          "base_uri": "https://localhost:8080/"
        },
        "id": "Q8sHtG5pyCl7",
        "outputId": "d72edd8e-1aef-4945-f672-9cb86093ba76"
      },
      "execution_count": 2,
      "outputs": [
        {
          "output_type": "stream",
          "name": "stdout",
          "text": [
            "0\n"
          ]
        }
      ]
    },
    {
      "cell_type": "code",
      "source": [
        "s = \"loveleetcode\"\n",
        "print(firstUniqChar(s))\n"
      ],
      "metadata": {
        "colab": {
          "base_uri": "https://localhost:8080/"
        },
        "id": "5RXsRsJZyNI9",
        "outputId": "f038649e-5117-488f-89fc-a350fdd90cf6"
      },
      "execution_count": 3,
      "outputs": [
        {
          "output_type": "stream",
          "name": "stdout",
          "text": [
            "2\n"
          ]
        }
      ]
    },
    {
      "cell_type": "code",
      "source": [
        "s = \"aabb\"\n",
        "print(firstUniqChar(s))\n"
      ],
      "metadata": {
        "colab": {
          "base_uri": "https://localhost:8080/"
        },
        "id": "C-x7QN-nyReF",
        "outputId": "79987762-00d8-4191-f372-b07efddc7b3a"
      },
      "execution_count": 4,
      "outputs": [
        {
          "output_type": "stream",
          "name": "stdout",
          "text": [
            "-1\n"
          ]
        }
      ]
    },
    {
      "cell_type": "code",
      "source": [],
      "metadata": {
        "id": "1SSCyG1ByUJk"
      },
      "execution_count": null,
      "outputs": []
    }
  ]
}