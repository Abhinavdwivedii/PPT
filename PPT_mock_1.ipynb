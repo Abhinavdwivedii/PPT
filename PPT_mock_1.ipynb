{
  "nbformat": 4,
  "nbformat_minor": 0,
  "metadata": {
    "colab": {
      "provenance": []
    },
    "kernelspec": {
      "name": "python3",
      "display_name": "Python 3"
    },
    "language_info": {
      "name": "python"
    }
  },
  "cells": [
    {
      "cell_type": "code",
      "execution_count": 1,
      "metadata": {
        "id": "5xcTTUXnv4gN"
      },
      "outputs": [],
      "source": [
        "def moveZeros(nums):\n",
        "    # Initialize two pointers: one for iterating through the array and another for placing non-zero elements\n",
        "    read_ptr = 0\n",
        "    write_ptr = 0\n",
        "\n",
        "    # Iterate through the array\n",
        "    while read_ptr < len(nums):\n",
        "        # If the current element is non-zero, move it to the write_ptr position and increment write_ptr\n",
        "        if nums[read_ptr] != 0:\n",
        "            nums[write_ptr] = nums[read_ptr]\n",
        "            write_ptr += 1\n",
        "\n",
        "        # Increment read_ptr for each iteration\n",
        "        read_ptr += 1\n",
        "\n",
        "    # After moving all non-zero elements, set the remaining elements to zero\n",
        "    while write_ptr < len(nums):\n",
        "        nums[write_ptr] = 0\n",
        "        write_ptr += 1\n",
        "\n",
        "    return nums\n"
      ]
    },
    {
      "cell_type": "code",
      "source": [
        "moveZeros([2,5,0,4,8,0,0,1,6,5])"
      ],
      "metadata": {
        "colab": {
          "base_uri": "https://localhost:8080/"
        },
        "id": "BMOvxXa7wW1s",
        "outputId": "753c8f0e-7fc8-48df-8418-a75e4230c63f"
      },
      "execution_count": 3,
      "outputs": [
        {
          "output_type": "execute_result",
          "data": {
            "text/plain": [
              "[2, 5, 4, 8, 1, 6, 5, 0, 0, 0]"
            ]
          },
          "metadata": {},
          "execution_count": 3
        }
      ]
    },
    {
      "cell_type": "code",
      "source": [],
      "metadata": {
        "id": "BGm3veuPwhwR"
      },
      "execution_count": null,
      "outputs": []
    }
  ]
}